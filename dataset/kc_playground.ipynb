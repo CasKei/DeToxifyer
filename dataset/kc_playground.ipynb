{
 "cells": [
  {
   "cell_type": "code",
   "execution_count": null,
   "metadata": {},
   "outputs": [],
   "source": [
    "import re\n",
    "from textblob import TextBlob\n",
    "from emoji import demojize\n",
    "def clean_text(text):\n",
    "    if isinstance(text, str):\n",
    "        \n",
    "        text = demojize(text)\n",
    "        \n",
    "        text = re.sub(r'http\\S+', '', text) # Remove URLs\n",
    "        text = re.sub(r'\\s+', ' ', text, flags=re.I) # substitute multiple space to single space\n",
    "        \n",
    "        # text = re.sub(r'[^\\w\\s]', '', text) # Remove punctuation\n",
    "        # text = re.sub(r'#\\w+', '', text) #Remove hashtags\n",
    "        text = text.lower()\n",
    "        # Handle self-censored words and emojis as needed\n",
    "        \n",
    "        # misspellings?\n",
    "        text_blob = TextBlob(text)\n",
    "        text = str(text_blob.correct())\n",
    "        \n",
    "        censored_words = {\n",
    "            'sh*t': 'shit',\n",
    "            'f*ck': 'fuck',\n",
    "            'pu$$y': 'pussy',\n",
    "        }\n",
    "        for censored, uncensored in censored_words.items():\n",
    "            text = text.replace(censored, uncensored)\n",
    "        text = re.sub(r'[^a-zA-Z0-9\\s?!.]', '', text)\n",
    "        \n",
    "        pass\n",
    "    \n",
    "    else:\n",
    "        return \"\"\n",
    "    return text\n",
    "\n",
    "cleaned = df['comment_text'].apply(clean_text)\n",
    "cleaned"
   ]
  }
 ],
 "metadata": {
  "language_info": {
   "name": "python"
  }
 },
 "nbformat": 4,
 "nbformat_minor": 2
}
