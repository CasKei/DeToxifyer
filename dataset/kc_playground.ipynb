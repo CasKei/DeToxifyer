{
 "cells": [
  {
   "cell_type": "code",
   "execution_count": 5,
   "metadata": {},
   "outputs": [
    {
     "data": {
      "text/plain": [
       "Index(['id', 'comment_text', 'split', 'created_date', 'publication_id',\n",
       "       'parent_id', 'article_id', 'rating', 'funny', 'wow', 'sad', 'likes',\n",
       "       'disagree', 'toxicity', 'severe_toxicity', 'obscene', 'sexual_explicit',\n",
       "       'identity_attack', 'insult', 'threat', 'male', 'female', 'transgender',\n",
       "       'other_gender', 'heterosexual', 'homosexual_gay_or_lesbian', 'bisexual',\n",
       "       'other_sexual_orientation', 'christian', 'jewish', 'muslim', 'hindu',\n",
       "       'buddhist', 'atheist', 'other_religion', 'black', 'white', 'asian',\n",
       "       'latino', 'other_race_or_ethnicity', 'physical_disability',\n",
       "       'intellectual_or_learning_disability', 'psychiatric_or_mental_illness',\n",
       "       'other_disability', 'identity_annotator_count',\n",
       "       'toxicity_annotator_count'],\n",
       "      dtype='object')"
      ]
     },
     "execution_count": 5,
     "metadata": {},
     "output_type": "execute_result"
    }
   ],
   "source": [
    "import re\n",
    "from emoji import demojize\n",
    "import spacy\n",
    "import numpy as np\n",
    "import pandas as pd\n",
    "import seaborn as sns\n",
    "import matplotlib.pyplot as plt\n",
    "nlp = spacy.load(\"en_core_web_sm\")\n",
    "df = pd.read_csv('all_data.csv')\n",
    "df.columns\n",
    "\n",
    "from gensim.models.doc2vec import Doc2Vec, TaggedDocument\n",
    "import nltk\n",
    "from nltk.tokenize import word_tokenize\n",
    "nltk.download('punkt')\n",
    "\n",
    "# spacy + nltk tokenisation\n",
    "import spacy\n",
    "\n",
    "nlp = spacy.load('en_core_web_sm')"
   ]
  },
  {
   "cell_type": "code",
   "execution_count": 6,
   "metadata": {},
   "outputs": [
    {
     "name": "stderr",
     "output_type": "stream",
     "text": [
      "[nltk_data] Downloading package punkt to /home/caskei/nltk_data...\n",
      "[nltk_data]   Package punkt is already up-to-date!\n"
     ]
    }
   ],
   "source": [
    "def clean_text(text, remove_stopwords=False, stem_words=False, lemmatise=False):\n",
    "    if isinstance(text, str):\n",
    "        text = demojize(text)\n",
    "        text = re.sub(r'http\\S+', 'URLLINK', text)\n",
    "        text = re.sub(r'\\s+', '', text, flags=re.I)\n",
    "        # Remove unwanted characters (keep alphanumeric, spaces, and some punctuation)\n",
    "        text = re.sub(r'[^a-zA-Z0-9\\s?!.]', '', text)\n",
    "        text = text.lower()\n",
    "        \n",
    "        \n",
    "        #TODO replace texts with dict stuff\n",
    "        \n",
    "        # Handle contractions\n",
    "        text = re.sub(r\"what's\", \"what is\", text)\n",
    "        text = re.sub(r\"\\'s\", \" \", text)\n",
    "        text = re.sub(r\"\\'ve\", \" have \", text)\n",
    "        text = re.sub(r\"can't\", \"cannot \", text)\n",
    "        text = re.sub(r\"n't\", \" not \", text)\n",
    "        text = re.sub(r\"i'm\", \"i am \", text)\n",
    "        text = re.sub(r\"\\'re\", \" are \", text)\n",
    "        text = re.sub(r\"\\'d\", \" would \", text)\n",
    "        text = re.sub(r\"\\'ll\", \" will \", text)\n",
    "        \n",
    "        if remove_stopwords:\n",
    "            stop_words = nlp.Defaults.stop_words\n",
    "            text = ' '.join([word for word in text.split() if word not in stop_words])\n",
    "\n",
    "        if stem_words:\n",
    "            text = nlp.pipe(text, disable=['parser', 'ner', 'tagger'])\n",
    "            text = ' '.join([word.lemma_ for word in text])\n",
    "        \n",
    "        if lemmatise:\n",
    "            text = nlp.pipe(text, disable=['parser', 'ner'])\n",
    "            text = ' '.join([word.lemma_ for word in text])\n",
    "        \n",
    "        return text\n",
    "    else:\n",
    "        return \"\"\n",
    "\n",
    "df['cleaned_comment_text'] = df['comment_text'].apply(clean_text)\n",
    "\n",
    "def tokenize(text):\n",
    "    doc = nlp(text)\n",
    "    return [token.text for token in doc]\n",
    "\n",
    "tagged_data = [TaggedDocument(words=tokenize(_d), tags=[str(i)]) for i, _d in enumerate(df['cleaned_comment_text'])]\n",
    "\n",
    "# train the Doc2Vec model\n",
    "model = Doc2Vec(vector_size=20, min_count=2, epochs=10)\n",
    "model.build_vocab(tagged_data)\n",
    "model.train(tagged_data, total_examples=model.corpus_count, epochs=model.epochs)\n",
    "\n",
    "# get the document vectors\n",
    "document_vectors = [model.infer_vector(tokenize(doc)) for doc in df['cleaned_comment_text']]"
   ]
  },
  {
   "cell_type": "code",
   "execution_count": null,
   "metadata": {},
   "outputs": [],
   "source": [
    "import pickle \n",
    " \n",
    "# save tagged_data \n",
    "with open('tagged_data.pickle', 'wb') as handle: \n",
    "    pickle.dump(document_vectors, handle, protocol=pickle.HIGHEST_PROTOCOL) "
   ]
  }
 ],
 "metadata": {
  "kernelspec": {
   "display_name": "Python 3",
   "language": "python",
   "name": "python3"
  },
  "language_info": {
   "codemirror_mode": {
    "name": "ipython",
    "version": 3
   },
   "file_extension": ".py",
   "mimetype": "text/x-python",
   "name": "python",
   "nbconvert_exporter": "python",
   "pygments_lexer": "ipython3",
   "version": "3.10.12"
  }
 },
 "nbformat": 4,
 "nbformat_minor": 2
}
