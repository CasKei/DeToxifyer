{
 "cells": [
  {
   "cell_type": "code",
   "execution_count": 7,
   "metadata": {},
   "outputs": [
    {
     "data": {
      "text/plain": [
       "'fuck you motherfucker'"
      ]
     },
     "execution_count": 7,
     "metadata": {},
     "output_type": "execute_result"
    }
   ],
   "source": [
    "# from transformers import BartTokenizer, BartForConditionalGeneration\n",
    "# import torch\n",
    "# device = torch.device('cuda' if torch.cuda.is_available() else 'cpu')\n",
    "# tokenizer = BartTokenizer.from_pretrained(\"facebook/bart-base\")\n",
    "# model = BartForConditionalGeneration.from_pretrained(\"facebook/bart-base\")\n",
    "# model.load_state_dict(torch.load('sim.pt', map_location=device), strict=False)\n",
    "# model.to(device)\n",
    "# model.eval()\n",
    "\n",
    "# def detox(text):\n",
    "#     # 'that sick fuck is going to be out in 54 years.', \n",
    "#     toxics = [text]\n",
    "#     tokens = tokenizer(toxics, return_tensors='pt', padding=True)\n",
    "#     tokens = model.generate(**tokens, num_return_sequences=5, do_sample=False,\n",
    "#                             temperature=1.0, repetition_penalty=10.0,\n",
    "#                             max_length=128, num_beams=10)\n",
    "#     neutrals = tokenizer.decode(tokens[0, ...], skip_special_tokens=True)\n",
    "#     # print(neutrals) # stdout: She is going to be out in 54 years.\n",
    "#     return neutrals\n",
    "\n",
    "# detox(\"you can suck my dick piece of shit get ur crap together or i will punch you\")\n",
    "\n",
    "\n",
    "from transformers import BartForConditionalGeneration, BartTokenizer\n",
    "import torch\n",
    "device = torch.device('cuda' if torch.cuda.is_available() else 'cpu')\n",
    "tokenizer = BartTokenizer.from_pretrained(\"facebook/bart-base\")\n",
    "model = BartForConditionalGeneration.from_pretrained(\"facebook/bart-base\")\n",
    "model.load_state_dict(torch.load(\"bartDetox.pt\", map_location=device), strict=False)\n",
    "model.to(device)\n",
    "model.eval()\n",
    "\n",
    "def detox(text):\n",
    "    toxics = [text]\n",
    "    tokens = tokenizer(toxics, return_tensors='pt', padding=True)\n",
    "    tokens = model.generate(**tokens, num_return_sequences=5, do_sample=False,\n",
    "                            temperature=1.0, repetition_penalty=10.0,\n",
    "                            max_length=128, num_beams=10)\n",
    "    neutrals = tokenizer.decode(tokens[0, ...], skip_special_tokens=True)\n",
    "    return neutrals\n",
    "\n",
    "detox(\"fuck you motherfucker\")"
   ]
  },
  {
   "cell_type": "code",
   "execution_count": 8,
   "metadata": {},
   "outputs": [
    {
     "data": {
      "text/plain": [
       "'You are not good.'"
      ]
     },
     "execution_count": 8,
     "metadata": {},
     "output_type": "execute_result"
    }
   ],
   "source": [
    "from transformers import AutoTokenizer, AutoModelForSeq2SeqLM\n",
    "import torch\n",
    "device = torch.device('cuda' if torch.cuda.is_available() else 'cpu')\n",
    "tokenizer = AutoTokenizer.from_pretrained(\"s-nlp/bart-base-detox\")\n",
    "model = AutoModelForSeq2SeqLM.from_pretrained(\"s-nlp/bart-base-detox\")\n",
    "model.to(device)\n",
    "model.eval()\n",
    "\n",
    "def detox(text):\n",
    "    # 'that sick fuck is going to be out in 54 years.', \n",
    "    toxics = [text]\n",
    "    tokens = tokenizer(toxics, return_tensors='pt', padding=True)\n",
    "    tokens = model.generate(**tokens, num_return_sequences=5, do_sample=False,\n",
    "                            temperature=1.0, repetition_penalty=10.0,\n",
    "                            max_length=128, num_beams=10)\n",
    "    neutrals = tokenizer.decode(tokens[0, ...], skip_special_tokens=True)\n",
    "    # print(neutrals) # stdout: She is going to be out in 54 years.\n",
    "    return neutrals\n",
    "\n",
    "detox(\"fuck you motherfucker\")"
   ]
  }
 ],
 "metadata": {
  "kernelspec": {
   "display_name": ".venv",
   "language": "python",
   "name": "python3"
  },
  "language_info": {
   "codemirror_mode": {
    "name": "ipython",
    "version": 3
   },
   "file_extension": ".py",
   "mimetype": "text/x-python",
   "name": "python",
   "nbconvert_exporter": "python",
   "pygments_lexer": "ipython3",
   "version": "3.9.18"
  }
 },
 "nbformat": 4,
 "nbformat_minor": 2
}
